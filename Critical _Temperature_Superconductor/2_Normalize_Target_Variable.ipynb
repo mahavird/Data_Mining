{
 "cells": [
  {
   "cell_type": "code",
   "execution_count": null,
   "metadata": {},
   "outputs": [],
   "source": [
    "#Importing the required Libraries\n",
    "import pandas as pd\n",
    "import seaborn as sea\n",
    "import warnings\n",
    "import matplotlib.pyplot as plt\n",
    "warnings.filterwarnings('ignore')"
   ]
  },
  {
   "cell_type": "code",
   "execution_count": null,
   "metadata": {},
   "outputs": [],
   "source": [
    "#\n",
    "#File path for reading the data\n",
    "df = pd.read_csv('/home/ml/projects/Superconductors_Regression/data_filtered.csv').drop('Unnamed: 0',axis=1)\n",
    "y = df['critical_temp'] #only using the critcal temperature information from dataset\n",
    "plt.figure(figsize=(20,10))\n",
    "plt.subplot(1,2,1)\n",
    "plt.title('Critical Temperatute (Tc) Histogram',fontsize=18)\n",
    "ax1 = sea.distplot(y, kde=False,color = 'g') #Using Seaborn library for plotting the data\n",
    "ax1.set_ylabel('Count',fontsize=18)\n",
    "ax1.set_xlabel('Critical Temperature (Kelvin)',fontsize=18)\n",
    "plt.xlim(0,200)"
   ]
  },
  {
   "cell_type": "code",
   "execution_count": null,
   "metadata": {},
   "outputs": [],
   "source": [
    "################### Normalizing the target variable\n",
    "\n",
    "e=0.1515151515151516\n",
    "y_mean = y.apply(lambda x: (x**e)).mean()\n",
    "plt.figure(figsize=(20,10))\n",
    "plt.subplot(1,2,2)\n",
    "plt.title('Transformed histogram  of critical temperature',fontsize=18)\n",
    "transform_text = r'$Temperature \\rightarrow e^{0.1515*Temp}-1.5543$'\n",
    "transformed = y.apply(lambda x: (x**e)-y_mean)\n",
    "ax2 = sea.distplot(transformed, kde=False,color=\"r\")\n",
    "ax2.text(-1.45,1500,transform_text,fontsize=18)\n",
    "ax2.set_xlabel('Transformed Temp',fontsize=18)\n",
    "plt.subplots_adjust(wspace=0.2)\n",
    "plt.savefig('/home/ml/projects/Superconductors_Regression/images/Critical_temp_hist.png')\n",
    "plt.show()"
   ]
  },
  {
   "cell_type": "markdown",
   "metadata": {},
   "source": [
    "Source for having the correct tick marks on the distplot histogram\n",
    "* https://github.com/mwaskom/seaborn/issues/479"
   ]
  }
 ],
 "metadata": {
  "kernelspec": {
   "display_name": "Python 3",
   "language": "python",
   "name": "python3"
  },
  "language_info": {
   "codemirror_mode": {
    "name": "ipython",
    "version": 3
   },
   "file_extension": ".py",
   "mimetype": "text/x-python",
   "name": "python",
   "nbconvert_exporter": "python",
   "pygments_lexer": "ipython3",
   "version": "3.5.2"
  }
 },
 "nbformat": 4,
 "nbformat_minor": 2
}
